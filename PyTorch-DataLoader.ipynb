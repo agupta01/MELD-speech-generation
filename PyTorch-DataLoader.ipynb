{
 "cells": [
  {
   "cell_type": "code",
   "execution_count": 42,
   "metadata": {},
   "outputs": [],
   "source": [
    "import os\n",
    "import torch\n",
    "from torch import nn\n",
    "import numpy as np\n",
    "import matplotlib.pyplot as plt\n",
    "from sklearn.model_selection import train_test_split\n",
    "import torch.nn.functional as F\n",
    "from torchvision.datasets import MNIST\n",
    "from torch.utils.data import DataLoader, Dataset, random_split\n",
    "import torchaudio\n",
    "import pytorch_lightning as pl"
   ]
  },
  {
   "cell_type": "code",
   "execution_count": 43,
   "metadata": {},
   "outputs": [],
   "source": [
    "waveform, sr = torchaudio.load('soundfile.wav', normalization=True)\n",
    "mel_spectrogram = torchaudio.transforms.MelSpectrogram(sr)(waveform).cuda()"
   ]
  },
  {
   "cell_type": "code",
   "execution_count": 44,
   "metadata": {},
   "outputs": [
    {
     "data": {
      "text/plain": [
       "(device(type='cuda', index=0), device(type='cpu'))"
      ]
     },
     "execution_count": 44,
     "metadata": {},
     "output_type": "execute_result"
    }
   ],
   "source": [
    "mel_spectrogram.device, waveform.device"
   ]
  },
  {
   "cell_type": "code",
   "execution_count": null,
   "metadata": {},
   "outputs": [],
   "source": [
    "class SpeechDataset(Dataset):\n",
    "    \n",
    "\n",
    "class SpeechDataModule(pl.LightningDataModule):\n",
    "    \n",
    "    def __init__(self, data_dir, filelist, batch_size=32):\n",
    "        super().__init__()\n",
    "        self.data_dir = data_dir\n",
    "        self.filelist = filelist\n",
    "        self.batch_size = batch_size\n",
    "    \n",
    "    def setup(self):\n",
    "        # split into train and test files\n",
    "        train_files, test_files = train_test_split(os.listdir(self.filelist), test_size=0.2)\n",
    "        \n",
    "        # convert train files into spectrograms on GPU\n",
    "        self.train_ljspeech = []\n",
    "        \n",
    "        \n",
    "        # convert test files into spectrograms on GPU\n",
    "        self.val_ljspeech = []\n",
    "    \n",
    "    def train_dataloader(self):\n",
    "        return DataLoader(self.train_ljspeech, batch_size=self.batch_size)\n",
    "    \n",
    "    def val_dataloader(self):\n",
    "        return DataLoader(self.val_ljspeech, batch_size=self.batch_size)"
   ]
  }
 ],
 "metadata": {
  "kernelspec": {
   "display_name": "pytorch",
   "language": "python",
   "name": "pytorch"
  },
  "language_info": {
   "codemirror_mode": {
    "name": "ipython",
    "version": 3
   },
   "file_extension": ".py",
   "mimetype": "text/x-python",
   "name": "python",
   "nbconvert_exporter": "python",
   "pygments_lexer": "ipython3",
   "version": "3.7.9"
  }
 },
 "nbformat": 4,
 "nbformat_minor": 4
}
