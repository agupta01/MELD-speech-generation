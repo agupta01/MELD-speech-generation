{
 "cells": [
  {
   "cell_type": "code",
   "execution_count": 1,
   "metadata": {},
   "outputs": [],
   "source": [
    "import pandas as pd\n",
    "import numpy as np\n",
    "import os\n",
    "from IPython.display import Audio\n",
    "import matplotlib.pyplot as plt\n",
    "from pydub import AudioSegment\n",
    "from pydub.playback import play\n",
    "from tqdm.notebook import tqdm"
   ]
  },
  {
   "cell_type": "code",
   "execution_count": 9,
   "metadata": {},
   "outputs": [],
   "source": [
    "# Imports\n",
    "from scipy.io import wavfile\n",
    "\n",
    "# Your new sampling rate\n",
    "new_rate = 22050\n",
    "\n",
    "sound = AudioSegment.from_file(\n",
    "    \"data/train_wavs/dia0_utt0.wav\").set_frame_rate(new_rate)\n"
   ]
  },
  {
   "cell_type": "code",
   "execution_count": 21,
   "metadata": {},
   "outputs": [
    {
     "data": {
      "application/vnd.jupyter.widget-view+json": {
       "model_id": "fdbc5074787a4aa3908043b13035ac52",
       "version_major": 2,
       "version_minor": 0
      },
      "text/plain": [
       "HBox(children=(FloatProgress(value=0.0, max=8305.0), HTML(value='')))"
      ]
     },
     "metadata": {},
     "output_type": "display_data"
    },
    {
     "name": "stdout",
     "output_type": "stream",
     "text": [
      "\n"
     ]
    }
   ],
   "source": [
    "def resample_audio(indir, outdir, new_rate=22050):\n",
    "    \"\"\"Changes sample rate of audio with minimal quality loss.\"\"\"\n",
    "    !mkdir data/train_wavs_22050\n",
    "    for file in tqdm(os.listdir(indir)):\n",
    "        if not file.startswith('.'):\n",
    "            sound = AudioSegment.from_file(\n",
    "                f\"{indir}/{file}\").set_frame_rate(new_rate).export(f\"{outdir}/{file}\", format=\"wav\")\n",
    "\n",
    "resample_audio(\"data/train_wavs\", \"data/train_wavs_22050\")"
   ]
  },
  {
   "cell_type": "code",
   "execution_count": 4,
   "metadata": {},
   "outputs": [],
   "source": [
    "CHARACTERS = ['Joey']\n",
    "df = pd.read_csv(\"data/train_sent_emo.csv\")"
   ]
  },
  {
   "cell_type": "code",
   "execution_count": 5,
   "metadata": {},
   "outputs": [],
   "source": [
    "df = df.loc[df.Speaker == 'Joey']"
   ]
  },
  {
   "cell_type": "code",
   "execution_count": 6,
   "metadata": {},
   "outputs": [],
   "source": [
    "df['filename'] = [f\"train_wavs_22050/dia{i[0]}_utt{i[1]}.wav\" for i in np.column_stack((df.Dialogue_ID.values, df.Utterance_ID.values))]"
   ]
  },
  {
   "cell_type": "code",
   "execution_count": 7,
   "metadata": {},
   "outputs": [],
   "source": [
    "df = df.filter(['Utterance', 'filename'])"
   ]
  },
  {
   "cell_type": "code",
   "execution_count": 8,
   "metadata": {},
   "outputs": [],
   "source": [
    "dataset = list(map(lambda text, file: f\"{file}|{text}\", df.Utterance.values, df.filename.values))"
   ]
  },
  {
   "cell_type": "code",
   "execution_count": 9,
   "metadata": {},
   "outputs": [
    {
     "data": {
      "text/plain": [
       "(1439, 56, 14)"
      ]
     },
     "execution_count": 9,
     "metadata": {},
     "output_type": "execute_result"
    }
   ],
   "source": [
    "from sklearn.model_selection import train_test_split\n",
    "\n",
    "train, test_val = train_test_split(dataset, test_size=0.046)\n",
    "test, val = train_test_split(test_val, test_size=0.2)\n",
    "len(train), len(test), len(val)"
   ]
  },
  {
   "cell_type": "code",
   "execution_count": 10,
   "metadata": {},
   "outputs": [],
   "source": [
    "import re\n",
    "def restore_windows_1252_characters(s):\n",
    "    \"\"\"Replace C1 control characters in the Unicode string s by the\n",
    "    characters at the corresponding code points in Windows-1252,\n",
    "    where possible.\n",
    "\n",
    "    \"\"\"\n",
    "    import re\n",
    "    def to_windows_1252(match):\n",
    "        try:\n",
    "            return bytes([ord(match.group(0))]).decode('windows-1252')\n",
    "        except UnicodeDecodeError:\n",
    "            # No character at the corresponding code point: remove it.\n",
    "            return ''\n",
    "    return re.sub(r'[\\u0080-\\u0099]', to_windows_1252, s)"
   ]
  },
  {
   "cell_type": "code",
   "execution_count": 11,
   "metadata": {},
   "outputs": [],
   "source": [
    "train = restore_windows_1252_characters(\"\\n\".join(train))"
   ]
  },
  {
   "cell_type": "code",
   "execution_count": 12,
   "metadata": {},
   "outputs": [],
   "source": [
    "# write training set to file\n",
    "with open(\"joeyspeech_train_filelist.txt\", \"w+\") as train_file:\n",
    "    train_file.write(train)"
   ]
  },
  {
   "cell_type": "code",
   "execution_count": 13,
   "metadata": {},
   "outputs": [],
   "source": [
    "# write validation set to file\n",
    "val = restore_windows_1252_characters(\"\\n\".join(val))\n",
    "with open(\"joeyspeech_val_filelist.txt\", \"w+\") as val_file:\n",
    "    val_file.write(val)"
   ]
  },
  {
   "cell_type": "code",
   "execution_count": 14,
   "metadata": {},
   "outputs": [],
   "source": [
    "# write test set to file\n",
    "test = restore_windows_1252_characters(\"\\n\".join(test))\n",
    "with open(\"joeyspeech_test_filelist.txt\", \"w+\") as test_file:\n",
    "    test_file.write(test)"
   ]
  },
  {
   "cell_type": "code",
   "execution_count": 19,
   "metadata": {},
   "outputs": [
    {
     "data": {
      "text/plain": [
       "(125127,)"
      ]
     },
     "execution_count": 19,
     "metadata": {},
     "output_type": "execute_result"
    }
   ],
   "source": [
    "wavfile.read(\"data/train_wavs_22050/dia0_utt0.wav\")[1][:,1].shape"
   ]
  },
  {
   "cell_type": "code",
   "execution_count": 17,
   "metadata": {},
   "outputs": [
    {
     "data": {
      "text/plain": [
       "(212893,)"
      ]
     },
     "execution_count": 17,
     "metadata": {},
     "output_type": "execute_result"
    }
   ],
   "source": [
    "wavfile.read(\"data/train_wavs_22050/LJ001-0001.wav\")[1].shape"
   ]
  },
  {
   "cell_type": "code",
   "execution_count": 18,
   "metadata": {},
   "outputs": [
    {
     "data": {
      "text/plain": [
       "250254"
      ]
     },
     "execution_count": 18,
     "metadata": {},
     "output_type": "execute_result"
    }
   ],
   "source": [
    "125127*2"
   ]
  },
  {
   "cell_type": "code",
   "execution_count": 22,
   "metadata": {},
   "outputs": [
    {
     "data": {
      "application/vnd.jupyter.widget-view+json": {
       "model_id": "c6ed2530b9724442a6c163383a104678",
       "version_major": 2,
       "version_minor": 0
      },
      "text/plain": [
       "HBox(children=(FloatProgress(value=0.0, max=8305.0), HTML(value='')))"
      ]
     },
     "metadata": {},
     "output_type": "display_data"
    },
    {
     "name": "stdout",
     "output_type": "stream",
     "text": [
      "\n"
     ]
    }
   ],
   "source": [
    "# convert all audio to single-channel\n",
    "for file in tqdm(os.listdir(\"data/train_wavs_22050\")):\n",
    "    \n",
    "    arr = wavfile.read(f\"data/train_wavs_22050/{file}\")[1][:,1]\n",
    "    wavfile.write(f\"data/train_wavs_22050/{file}\", 22050, arr)"
   ]
  },
  {
   "cell_type": "code",
   "execution_count": null,
   "metadata": {},
   "outputs": [],
   "source": []
  }
 ],
 "metadata": {
  "kernelspec": {
   "display_name": "meld",
   "language": "python",
   "name": "meld"
  },
  "language_info": {
   "codemirror_mode": {
    "name": "ipython",
    "version": 3
   },
   "file_extension": ".py",
   "mimetype": "text/x-python",
   "name": "python",
   "nbconvert_exporter": "python",
   "pygments_lexer": "ipython3",
   "version": "3.8.3"
  }
 },
 "nbformat": 4,
 "nbformat_minor": 4
}
